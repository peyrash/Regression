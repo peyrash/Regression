{
 "cells": [
  {
   "cell_type": "code",
   "execution_count": 1,
   "metadata": {},
   "outputs": [],
   "source": [
    "import pandas as pd\n",
    "import numpy as np\n",
    "import matplotlib.pyplot as plt\n",
    "from sklearn.linear_model import LinearRegression\n",
    "import statsmodels.formula.api as smf"
   ]
  },
  {
   "cell_type": "code",
   "execution_count": 2,
   "metadata": {},
   "outputs": [],
   "source": [
    "df=pd.read_csv(\"C:\\\\Users\\\\peyma\\\\PycharmProjects\\\\HW2\\\\TEST_missing.csv\",encoding=\"cp1252\")"
   ]
  },
  {
   "cell_type": "code",
   "execution_count": 3,
   "metadata": {},
   "outputs": [
    {
     "data": {
      "text/html": [
       "<div>\n",
       "<style scoped>\n",
       "    .dataframe tbody tr th:only-of-type {\n",
       "        vertical-align: middle;\n",
       "    }\n",
       "\n",
       "    .dataframe tbody tr th {\n",
       "        vertical-align: top;\n",
       "    }\n",
       "\n",
       "    .dataframe thead th {\n",
       "        text-align: right;\n",
       "    }\n",
       "</style>\n",
       "<table border=\"1\" class=\"dataframe\">\n",
       "  <thead>\n",
       "    <tr style=\"text-align: right;\">\n",
       "      <th></th>\n",
       "      <th>Subject</th>\n",
       "      <th>Hemoglobin</th>\n",
       "      <th>Albumin</th>\n",
       "      <th>WhiteBC</th>\n",
       "      <th>BP_sys</th>\n",
       "      <th>BP_dia</th>\n",
       "      <th>FVC</th>\n",
       "    </tr>\n",
       "  </thead>\n",
       "  <tbody>\n",
       "    <tr>\n",
       "      <th>0</th>\n",
       "      <td>1</td>\n",
       "      <td>12.92</td>\n",
       "      <td>2.53</td>\n",
       "      <td>4185</td>\n",
       "      <td>126.0</td>\n",
       "      <td>97.0</td>\n",
       "      <td>3.11</td>\n",
       "    </tr>\n",
       "    <tr>\n",
       "      <th>1</th>\n",
       "      <td>2</td>\n",
       "      <td>NaN</td>\n",
       "      <td>4.41</td>\n",
       "      <td>4042</td>\n",
       "      <td>132.0</td>\n",
       "      <td>NaN</td>\n",
       "      <td>NaN</td>\n",
       "    </tr>\n",
       "    <tr>\n",
       "      <th>2</th>\n",
       "      <td>3</td>\n",
       "      <td>10.57</td>\n",
       "      <td>2.81</td>\n",
       "      <td>3806</td>\n",
       "      <td>124.0</td>\n",
       "      <td>112.0</td>\n",
       "      <td>3.08</td>\n",
       "    </tr>\n",
       "    <tr>\n",
       "      <th>3</th>\n",
       "      <td>4</td>\n",
       "      <td>13.94</td>\n",
       "      <td>2.57</td>\n",
       "      <td>3573</td>\n",
       "      <td>NaN</td>\n",
       "      <td>NaN</td>\n",
       "      <td>NaN</td>\n",
       "    </tr>\n",
       "    <tr>\n",
       "      <th>4</th>\n",
       "      <td>5</td>\n",
       "      <td>9.22</td>\n",
       "      <td>1.52</td>\n",
       "      <td>3461</td>\n",
       "      <td>128.0</td>\n",
       "      <td>93.0</td>\n",
       "      <td>3.19</td>\n",
       "    </tr>\n",
       "  </tbody>\n",
       "</table>\n",
       "</div>"
      ],
      "text/plain": [
       "   Subject  Hemoglobin  Albumin  WhiteBC  BP_sys  BP_dia   FVC\n",
       "0        1       12.92     2.53     4185   126.0    97.0  3.11\n",
       "1        2         NaN     4.41     4042   132.0     NaN   NaN\n",
       "2        3       10.57     2.81     3806   124.0   112.0  3.08\n",
       "3        4       13.94     2.57     3573     NaN     NaN   NaN\n",
       "4        5        9.22     1.52     3461   128.0    93.0  3.19"
      ]
     },
     "execution_count": 3,
     "metadata": {},
     "output_type": "execute_result"
    }
   ],
   "source": [
    "df.head()"
   ]
  },
  {
   "cell_type": "code",
   "execution_count": 4,
   "metadata": {},
   "outputs": [],
   "source": [
    "newdf=df.dropna(how='any')"
   ]
  },
  {
   "cell_type": "code",
   "execution_count": 5,
   "metadata": {},
   "outputs": [
    {
     "data": {
      "text/html": [
       "<div>\n",
       "<style scoped>\n",
       "    .dataframe tbody tr th:only-of-type {\n",
       "        vertical-align: middle;\n",
       "    }\n",
       "\n",
       "    .dataframe tbody tr th {\n",
       "        vertical-align: top;\n",
       "    }\n",
       "\n",
       "    .dataframe thead th {\n",
       "        text-align: right;\n",
       "    }\n",
       "</style>\n",
       "<table border=\"1\" class=\"dataframe\">\n",
       "  <thead>\n",
       "    <tr style=\"text-align: right;\">\n",
       "      <th></th>\n",
       "      <th>Subject</th>\n",
       "      <th>Hemoglobin</th>\n",
       "      <th>Albumin</th>\n",
       "      <th>WhiteBC</th>\n",
       "      <th>BP_sys</th>\n",
       "      <th>BP_dia</th>\n",
       "      <th>FVC</th>\n",
       "    </tr>\n",
       "  </thead>\n",
       "  <tbody>\n",
       "    <tr>\n",
       "      <th>0</th>\n",
       "      <td>1</td>\n",
       "      <td>12.92</td>\n",
       "      <td>2.53</td>\n",
       "      <td>4185</td>\n",
       "      <td>126.0</td>\n",
       "      <td>97.0</td>\n",
       "      <td>3.11</td>\n",
       "    </tr>\n",
       "    <tr>\n",
       "      <th>2</th>\n",
       "      <td>3</td>\n",
       "      <td>10.57</td>\n",
       "      <td>2.81</td>\n",
       "      <td>3806</td>\n",
       "      <td>124.0</td>\n",
       "      <td>112.0</td>\n",
       "      <td>3.08</td>\n",
       "    </tr>\n",
       "    <tr>\n",
       "      <th>4</th>\n",
       "      <td>5</td>\n",
       "      <td>9.22</td>\n",
       "      <td>1.52</td>\n",
       "      <td>3461</td>\n",
       "      <td>128.0</td>\n",
       "      <td>93.0</td>\n",
       "      <td>3.19</td>\n",
       "    </tr>\n",
       "    <tr>\n",
       "      <th>5</th>\n",
       "      <td>6</td>\n",
       "      <td>10.33</td>\n",
       "      <td>2.64</td>\n",
       "      <td>3778</td>\n",
       "      <td>148.0</td>\n",
       "      <td>98.0</td>\n",
       "      <td>3.55</td>\n",
       "    </tr>\n",
       "    <tr>\n",
       "      <th>6</th>\n",
       "      <td>7</td>\n",
       "      <td>9.07</td>\n",
       "      <td>4.72</td>\n",
       "      <td>3489</td>\n",
       "      <td>137.0</td>\n",
       "      <td>83.0</td>\n",
       "      <td>4.55</td>\n",
       "    </tr>\n",
       "  </tbody>\n",
       "</table>\n",
       "</div>"
      ],
      "text/plain": [
       "   Subject  Hemoglobin  Albumin  WhiteBC  BP_sys  BP_dia   FVC\n",
       "0        1       12.92     2.53     4185   126.0    97.0  3.11\n",
       "2        3       10.57     2.81     3806   124.0   112.0  3.08\n",
       "4        5        9.22     1.52     3461   128.0    93.0  3.19\n",
       "5        6       10.33     2.64     3778   148.0    98.0  3.55\n",
       "6        7        9.07     4.72     3489   137.0    83.0  4.55"
      ]
     },
     "execution_count": 5,
     "metadata": {},
     "output_type": "execute_result"
    }
   ],
   "source": [
    "newdf.head()"
   ]
  },
  {
   "cell_type": "code",
   "execution_count": 6,
   "metadata": {},
   "outputs": [],
   "source": [
    "X= newdf[['Hemoglobin','Albumin','WhiteBC','BP_sys','BP_dia']]"
   ]
  },
  {
   "cell_type": "code",
   "execution_count": 7,
   "metadata": {},
   "outputs": [],
   "source": [
    "Y=newdf['FVC']"
   ]
  },
  {
   "cell_type": "code",
   "execution_count": 8,
   "metadata": {},
   "outputs": [],
   "source": [
    "mod = smf.ols('Y ~ X', data=newdf)\n",
    "res = mod.fit()"
   ]
  },
  {
   "cell_type": "code",
   "execution_count": 9,
   "metadata": {},
   "outputs": [
    {
     "name": "stdout",
     "output_type": "stream",
     "text": [
      "                            OLS Regression Results                            \n",
      "==============================================================================\n",
      "Dep. Variable:                      Y   R-squared:                       0.177\n",
      "Model:                            OLS   Adj. R-squared:                  0.066\n",
      "Method:                 Least Squares   F-statistic:                     1.596\n",
      "Date:                Mon, 05 Nov 2018   Prob (F-statistic):              0.185\n",
      "Time:                        20:01:29   Log-Likelihood:                -50.167\n",
      "No. Observations:                  43   AIC:                             112.3\n",
      "Df Residuals:                      37   BIC:                             122.9\n",
      "Df Model:                           5                                         \n",
      "Covariance Type:            nonrobust                                         \n",
      "==============================================================================\n",
      "                 coef    std err          t      P>|t|      [0.025      0.975]\n",
      "------------------------------------------------------------------------------\n",
      "Intercept      5.9225      2.412      2.456      0.019       1.036      10.809\n",
      "X[0]           0.0077      0.079      0.098      0.923      -0.152       0.167\n",
      "X[1]           0.2568      0.157      1.633      0.111      -0.062       0.575\n",
      "X[2]          -0.0011      0.000     -2.359      0.024      -0.002      -0.000\n",
      "X[3]          -0.0008      0.008     -0.098      0.923      -0.017       0.015\n",
      "X[4]           0.0079      0.012      0.674      0.505      -0.016       0.032\n",
      "==============================================================================\n",
      "Omnibus:                        0.928   Durbin-Watson:                   2.151\n",
      "Prob(Omnibus):                  0.629   Jarque-Bera (JB):                0.984\n",
      "Skew:                           0.263   Prob(JB):                        0.611\n",
      "Kurtosis:                       2.477   Cond. No.                     6.84e+04\n",
      "==============================================================================\n",
      "\n",
      "Warnings:\n",
      "[1] Standard Errors assume that the covariance matrix of the errors is correctly specified.\n",
      "[2] The condition number is large, 6.84e+04. This might indicate that there are\n",
      "strong multicollinearity or other numerical problems.\n"
     ]
    }
   ],
   "source": [
    "print(res.summary())"
   ]
  }
 ],
 "metadata": {
  "kernelspec": {
   "display_name": "Python 3",
   "language": "python",
   "name": "python3"
  },
  "language_info": {
   "codemirror_mode": {
    "name": "ipython",
    "version": 3
   },
   "file_extension": ".py",
   "mimetype": "text/x-python",
   "name": "python",
   "nbconvert_exporter": "python",
   "pygments_lexer": "ipython3",
   "version": "3.7.0"
  }
 },
 "nbformat": 4,
 "nbformat_minor": 2
}
